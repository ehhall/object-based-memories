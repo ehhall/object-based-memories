{
 "cells": [
  {
   "cell_type": "code",
   "execution_count": 1,
   "id": "6501bfb0-7a19-4f61-9b23-31676f0caaa8",
   "metadata": {},
   "outputs": [
    {
     "name": "stderr",
     "output_type": "stream",
     "text": [
      "C:\\Users\\ehall\\Anaconda3\\envs\\beppy\\lib\\site-packages\\numpy\\_distributor_init.py:30: UserWarning: loaded more than 1 DLL from .libs:\n",
      "C:\\Users\\ehall\\Anaconda3\\envs\\beppy\\lib\\site-packages\\numpy\\.libs\\libopenblas.EL2C6PLE4ZYW3ECEVIV3OXXGRN2NRFM2.gfortran-win_amd64.dll\n",
      "C:\\Users\\ehall\\Anaconda3\\envs\\beppy\\lib\\site-packages\\numpy\\.libs\\libopenblas64__v0.3.21-gcc_10_3_0.dll\n",
      "  warnings.warn(\"loaded more than 1 DLL from .libs:\"\n"
     ]
    }
   ],
   "source": [
    "# Enable auto-reload of modified python files.\n",
    "%load_ext autoreload\n",
    "%autoreload 2\n",
    "\n",
    "# imports\n",
    "import warnings\n",
    "import settings\n",
    "import pandas as pd\n",
    "import numpy as np\n",
    "from scipy import stats\n",
    "from scipy.spatial import distance\n",
    "import math\n",
    "import statsmodels.api as sm\n",
    "import statsmodels.formula.api as smf\n",
    "import matplotlib.pyplot as plt\n",
    "import matplotlib.lines as mlines\n",
    "import seaborn as sns\n",
    "\n",
    "warnings.filterwarnings('ignore')"
   ]
  },
  {
   "cell_type": "code",
   "execution_count": 2,
   "id": "8f0a4aff-5785-425b-8199-187ea4eebeec",
   "metadata": {},
   "outputs": [
    {
     "name": "stdout",
     "output_type": "stream",
     "text": [
      "TARGET STATS:\n",
      "search mean: 0.8036261150772781\n",
      "search std: 0.1608925554529607\n",
      "mem mean: 0.19529814956285546\n",
      "mem std: 0.18806223021715757\n",
      "ranks sums by image RanksumsResult(statistic=4.500370355130046, pvalue=6.783516788914353e-06)\n",
      "NONSPECIFIC STATS:\n",
      "search mean: 0.2090366702475672\n",
      "search std: 0.0937349247301745\n",
      "mem mean: 0.30159747172031964\n",
      "mem std: 0.13755829278038417\n",
      "rank sums by image RanksumsResult(statistic=-2.5509011690368464, pvalue=0.010744478934428568)\n"
     ]
    }
   ],
   "source": [
    "### stats of memory for target and non-target objects by condition\n",
    "df = pd.read_csv(settings.DATA_PATH + '/drawings.csv')\n",
    "search = df[df['condition'] == 'search']\n",
    "memorize = df[df['condition'] == 'memorize']\n",
    "search[\"matched\"] = np.where(search['average']>.65, 1, 0)\n",
    "memorize[\"matched\"] = np.where(memorize['average']>.65, 1, 0)\n",
    "grouped_search = search.groupby(['image_name', 'identity']).mean().reset_index()\n",
    "grouped_mem = memorize.groupby([\"image_name\", 'identity']).mean() .reset_index()\n",
    "search_target = grouped_search[grouped_search['identity']=='target']\n",
    "mem_target = grouped_mem[grouped_mem['identity']=='target']\n",
    "search_non = grouped_search[grouped_search['identity']=='nonspecific']\n",
    "mem_non = grouped_mem[grouped_mem['identity']=='nonspecific']\n",
    "\n",
    "print('TARGET STATS:')\n",
    "print('search mean:', search_target.matched.mean())\n",
    "print('search std:', search_target.matched.std())\n",
    "print('mem mean:', mem_target.matched.mean())\n",
    "print('mem std:', mem_target.matched.std())\n",
    "print('ranks sums by image', stats.ranksums(search_target['matched'], mem_target['matched']))\n",
    "\n",
    "print('NONSPECIFIC STATS:')\n",
    "print('search mean:', search_non.matched.mean())\n",
    "print('search std:', search_non.matched.std())\n",
    "print('mem mean:', mem_non.matched.mean())\n",
    "print('mem std:', mem_non.matched.std())\n",
    "print('rank sums by image', stats.ranksums(search_non['matched'], mem_non['matched']))"
   ]
  },
  {
   "cell_type": "code",
   "execution_count": 3,
   "id": "c34b0d72-71e6-4890-863b-52e319bcd18a",
   "metadata": {},
   "outputs": [
    {
     "data": {
      "image/png": "[encoded data removed]",
      "text/plain": [
       "<Figure size 225x225 with 1 Axes>"
      ]
     },
     "metadata": {},
     "output_type": "display_data"
    }
   ],
   "source": [
    "# plot memory for target objects by condition\n",
    "search_target['condition'] = 'search'\n",
    "mem_target['condition'] ='memorize'\n",
    "plotdf = pd.concat([search_target, mem_target])\n",
    "plotdf['image'] = plotdf['image_name']\n",
    "plotdf = plotdf.sort_values(by=['condition', 'image'], ascending=False)\n",
    "fig, ax = plt.subplots(figsize=(2.25,2.25))\n",
    "x = [0,.3]\n",
    "y = [plotdf[plotdf[\"condition\"]==\"search\"][\"matched\"].mean(),plotdf[plotdf[\"condition\"]==\"memorize\"][\"matched\"].mean()]\n",
    "error = [stats.sem(plotdf[plotdf[\"condition\"]==\"search\"][\"matched\"]), stats.sem(plotdf[plotdf[\"condition\"]==\"memorize\"][\"matched\"])]\n",
    "for currim in plotdf.image.unique():\n",
    "    currdf = plotdf.loc[plotdf['image']== currim]\n",
    "    ax.plot(x, currdf['matched'], linestyle=\"-\",marker='+', markersize=6,markeredgewidth=1,  color='gray', \n",
    "             markeredgecolor=\"gray\",  alpha=.5,linewidth=1.5,  markerfacecolor='none')\n",
    "plt.plot([0,.3],[y[0],y[1]],linestyle=\"-\",  color='black' )\n",
    "plt.errorbar(0, y[0],\n",
    "             yerr = error[0],  fmt='o', color='mediumaquamarine', \n",
    "           markersize=6,capsize=7, markeredgecolor='black',\n",
    "             elinewidth=2, markeredgewidth=1.5, ecolor='black')\n",
    "plt.errorbar(.3, y[1],\n",
    "             yerr = error[1],  fmt='o', color='orchid', \n",
    "             markersize=6,capsize=7, markeredgecolor='black',\n",
    "             elinewidth=2, markeredgewidth=1.5, ecolor='black')\n",
    "ax.set_xticks([0,.3], labels=['search','memorize'])\n",
    "ax.set_xlim([-.1, .4])\n",
    "ax.set_yticks([0, 0.2, 0.4, 0.6,0.8, 1.0])\n",
    "ax.set_ylim([-0.1,1.1])\n",
    "ax.spines['right'].set_visible(False)\n",
    "ax.spines['top'].set_visible(False)\n",
    "plt.tight_layout()\n",
    "plt.savefig(settings.RESULTS_PATH + '/figure6/6b.svg', dpi=1000)"
   ]
  },
  {
   "cell_type": "code",
   "execution_count": 4,
   "id": "86f67579-32a7-477f-b42a-2f1c98530aaf",
   "metadata": {},
   "outputs": [],
   "source": [
    "# calculate object size, prox to center, and prox to target \n",
    "img_data = pd.read_csv(settings.DATA_PATH + '/locations.csv')\n",
    "target_info = img_data.loc[img_data[\"identity\"] == 'target']\n",
    "center = (640, 480)\n",
    "dist_to_target = []\n",
    "dist_to_center = []\n",
    "\n",
    "for ind, row in df.iterrows():\n",
    "    curr_target = target_info.loc[target_info[\"image_name\"] == row[\"image_name\"]]\n",
    "    dist_to_target.append(distance.euclidean((int(curr_target['img_cx']),int(curr_target['img_cy'])),\n",
    "                                       (row[\"img_cx\"], row[\"img_cy\"])))\n",
    "    dist_to_center.append(distance.euclidean(center,(row[\"img_cx\"], row[\"img_cy\"])))\n",
    "df[\"prox_to_target\"] = [i * -1 for i in dist_to_target]\n",
    "df[\"prox_to_center\"] = [i * -1 for i in dist_to_center]\n",
    "df[\"size\"] = df[\"img_rx\"] * df[\"img_ry\"] * math.pi"
   ]
  },
  {
   "cell_type": "code",
   "execution_count": 5,
   "id": "794956b7-a51c-4e52-8d68-24ebb3b3e17d",
   "metadata": {},
   "outputs": [
    {
     "name": "stdout",
     "output_type": "stream",
     "text": [
      "Optimization terminated successfully.\n",
      "         Current function value: 0.471787\n",
      "         Iterations 5\n",
      "                           Logit Regression Results                           \n",
      "==============================================================================\n",
      "Dep. Variable:                matched   No. Observations:                 6165\n",
      "Model:                          Logit   Df Residuals:                     6163\n",
      "Method:                           MLE   Df Model:                            1\n",
      "Date:                Fri, 03 May 2024   Pseudo R-squ.:                0.001921\n",
      "Time:                        13:07:11   Log-Likelihood:                -2908.6\n",
      "converged:                       True   LL-Null:                       -2914.2\n",
      "Covariance Type:            nonrobust   LLR p-value:                 0.0008204\n",
      "====================================================================================\n",
      "                       coef    std err          z      P>|z|      [0.025      0.975]\n",
      "------------------------------------------------------------------------------------\n",
      "Intercept           -1.5146      0.033    -45.610      0.000      -1.580      -1.449\n",
      "z_prox_to_target     0.1126      0.034      3.315      0.001       0.046       0.179\n",
      "====================================================================================\n"
     ]
    }
   ],
   "source": [
    "# stats for proximity to target\n",
    "search_df = df[df['condition']=='search']\n",
    "search_df = search_df[search_df['identity'] != 'target']\n",
    "search_df['z_prox_to_target'] = stats.zscore(search_df['prox_to_target'])\n",
    "log_reg = smf.logit(\"matched ~ z_prox_to_target\", \n",
    "                    data=search_df).fit()\n",
    "print(log_reg.summary())"
   ]
  },
  {
   "cell_type": "code",
   "execution_count": 6,
   "id": "ca79db6f-aa37-4417-9b18-b61573f5676c",
   "metadata": {},
   "outputs": [
    {
     "data": {
      "image/png": "[encoded data removed]",
      "text/plain": [
       "<Figure size 225x225 with 1 Axes>"
      ]
     },
     "metadata": {},
     "output_type": "display_data"
    }
   ],
   "source": [
    "# plot for prox to target\n",
    "sns.set_context(\"notebook\",  font_scale=1)\n",
    "fig, ax = plt.subplots(figsize=(2.25,2.25))\n",
    "\n",
    "ax = sns.regplot(x='z_prox_to_target', y = 'matched', \n",
    "           data=search_df, logistic=True, scatter=False,\n",
    "            scatter_kws={'color': 'black'}, line_kws={'color': 'mediumaquamarine'})\n",
    "ax.spines['right'].set_visible(False)\n",
    "ax.spines['top'].set_visible(False)\n",
    "plt.ylim(0.10,.25)\n",
    "plt.axhline(y = search_df['matched'].mean(), color = 'lightgray', linestyle = '--', zorder=1)\n",
    "plt.ylabel('')\n",
    "plt.xlabel('')\n",
    "plt.tight_layout()\n",
    "plt.savefig(settings.RESULTS_PATH + '/figure6/6c.svg', dpi=1000)\n"
   ]
  },
  {
   "cell_type": "code",
   "execution_count": 7,
   "id": "152937db-2314-4da5-b5c6-e9dda7352813",
   "metadata": {},
   "outputs": [
    {
     "name": "stdout",
     "output_type": "stream",
     "text": [
      "Optimization terminated successfully.\n",
      "         Current function value: 0.603353\n",
      "         Iterations 5\n",
      "                           Logit Regression Results                           \n",
      "==============================================================================\n",
      "Dep. Variable:                matched   No. Observations:                 5782\n",
      "Model:                          Logit   Df Residuals:                     5779\n",
      "Method:                           MLE   Df Model:                            2\n",
      "Date:                Fri, 03 May 2024   Pseudo R-squ.:                0.008072\n",
      "Time:                        13:07:22   Log-Likelihood:                -3488.6\n",
      "converged:                       True   LL-Null:                       -3517.0\n",
      "Covariance Type:            nonrobust   LLR p-value:                 4.693e-13\n",
      "====================================================================================\n",
      "                       coef    std err          z      P>|z|      [0.025      0.975]\n",
      "------------------------------------------------------------------------------------\n",
      "Intercept           -0.8718      0.029    -30.014      0.000      -0.929      -0.815\n",
      "z_prox_to_center     0.1625      0.030      5.462      0.000       0.104       0.221\n",
      "z_prox_to_target    -0.1792      0.030     -6.072      0.000      -0.237      -0.121\n",
      "====================================================================================\n"
     ]
    }
   ],
   "source": [
    "# stats for proximity to image center\n",
    "mem_df = df[df['condition']=='memorize']\n",
    "mem_df['z_prox_to_center'] =stats.zscore(mem_df['prox_to_center'])\n",
    "mem_df['z_prox_to_target'] =stats.zscore(mem_df['prox_to_target'])\n",
    "\n",
    "log_reg = smf.logit(\"matched ~ z_prox_to_center + z_prox_to_target\", \n",
    "                    data=mem_df).fit()\n",
    "print(log_reg.summary())"
   ]
  },
  {
   "cell_type": "code",
   "execution_count": 8,
   "id": "d343764d-285c-4f3d-8e31-5f38f006345a",
   "metadata": {},
   "outputs": [
    {
     "data": {
      "image/png": "[encoded data removed]",
      "text/plain": [
       "<Figure size 225x225 with 1 Axes>"
      ]
     },
     "metadata": {},
     "output_type": "display_data"
    }
   ],
   "source": [
    "# plot for proximity to image center\n",
    "sns.set_context(\"notebook\",  font_scale=1)\n",
    "fig, ax = plt.subplots(figsize=(2.25,2.25))\n",
    "\n",
    "ax = sns.regplot(x='z_prox_to_center', y = 'matched', \n",
    "           data=mem_df, logistic=True, scatter=False,\n",
    "            scatter_kws={'color': 'black'}, line_kws={'color': 'orchid'})\n",
    "ax.spines['right'].set_visible(False)\n",
    "ax.spines['top'].set_visible(False)\n",
    "plt.ylim(0.20,.4)\n",
    "plt.axhline(y = mem_df['matched'].mean(), color = 'lightgray', linestyle = '--', zorder=1)\n",
    "plt.ylabel('')\n",
    "plt.xlabel('')\n",
    "plt.tight_layout()\n",
    "plt.savefig(settings.RESULTS_PATH + '/figure6/6d.svg', dpi=1000)"
   ]
  },
  {
   "cell_type": "code",
   "execution_count": 9,
   "id": "efa76fee-c060-4b26-8661-bc2a56b955f1",
   "metadata": {},
   "outputs": [
    {
     "name": "stdout",
     "output_type": "stream",
     "text": [
      "Optimization terminated successfully.\n",
      "         Current function value: 0.535053\n",
      "         Iterations 5\n",
      "                           Logit Regression Results                           \n",
      "==============================================================================\n",
      "Dep. Variable:                matched   No. Observations:                12230\n",
      "Model:                          Logit   Df Residuals:                    12226\n",
      "Method:                           MLE   Df Model:                            3\n",
      "Date:                Fri, 03 May 2024   Pseudo R-squ.:                 0.04814\n",
      "Time:                        13:07:34   Log-Likelihood:                -6543.7\n",
      "converged:                       True   LL-Null:                       -6874.6\n",
      "Covariance Type:            nonrobust   LLR p-value:                3.983e-143\n",
      "======================================================================================================\n",
      "                                         coef    std err          z      P>|z|      [0.025      0.975]\n",
      "------------------------------------------------------------------------------------------------------\n",
      "Intercept                             -0.8685      0.029    -29.602      0.000      -0.926      -0.811\n",
      "C(condition)[T.search]                -0.5222      0.043    -12.046      0.000      -0.607      -0.437\n",
      "zscore_size                            0.4106      0.032     12.898      0.000       0.348       0.473\n",
      "zscore_size:C(condition)[T.search]     0.1019      0.045      2.284      0.022       0.014       0.189\n",
      "======================================================================================================\n"
     ]
    }
   ],
   "source": [
    "# stats for probability of recall by object size \n",
    "df['zscore_size'] = stats.zscore(df['size'])\n",
    "log_reg = smf.logit(\"matched ~ zscore_size * C(condition)\", \n",
    "                    data=df).fit()\n",
    "print(log_reg.summary())"
   ]
  },
  {
   "cell_type": "code",
   "execution_count": 10,
   "id": "32ead36f-6c18-4b5e-99a1-fd519e155e86",
   "metadata": {},
   "outputs": [
    {
     "data": {
      "image/png": "[encoded data removed]",
      "text/plain": [
       "<Figure size 250x250 with 1 Axes>"
      ]
     },
     "metadata": {},
     "output_type": "display_data"
    }
   ],
   "source": [
    "# plot for probability of recall object size \n",
    "sns.set_context(\"notebook\",  font_scale=1)\n",
    "sns.lmplot(x='zscore_size', y = 'matched', hue='condition', legend=False, \n",
    "           scatter=False, height=2.5, aspect=1,\n",
    "           data=df, logistic=True, \n",
    "           palette=['mediumaquamarine', 'orchid'])\n",
    "plt.axhline(y = df['matched'].mean(), color = 'lightgray', linestyle = '--')\n",
    "plt.xlabel('')\n",
    "plt.ylabel('')\n",
    "plt.savefig(settings.RESULTS_PATH + '/figure6/6e.svg', dpi=1000)"
   ]
  }
 ],
 "metadata": {
  "kernelspec": {
   "display_name": "Python 3 (ipykernel)",
   "language": "python",
   "name": "python3"
  },
  "language_info": {
   "codemirror_mode": {
    "name": "ipython",
    "version": 3
   },
   "file_extension": ".py",
   "mimetype": "text/x-python",
   "name": "python",
   "nbconvert_exporter": "python",
   "pygments_lexer": "ipython3",
   "version": "3.10.9"
  }
 },
 "nbformat": 4,
 "nbformat_minor": 5
}
